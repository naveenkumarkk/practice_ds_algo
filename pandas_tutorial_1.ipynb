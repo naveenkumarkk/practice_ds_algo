{
 "cells": [
  {
   "cell_type": "code",
   "execution_count": null,
   "id": "ac37e7c5",
   "metadata": {},
   "outputs": [],
   "source": [
    "import pandas as pd"
   ]
  },
  {
   "cell_type": "markdown",
   "id": "68f0ea23",
   "metadata": {},
   "source": [
    "<!-- Dataframe is to create a table -->"
   ]
  },
  {
   "cell_type": "code",
   "execution_count": 3,
   "id": "8ac0a070",
   "metadata": {},
   "outputs": [
    {
     "data": {
      "application/vnd.microsoft.datawrangler.viewer.v0+json": {
       "columns": [
        {
         "name": "index",
         "rawType": "int64",
         "type": "integer"
        },
        {
         "name": "Yes",
         "rawType": "int64",
         "type": "integer"
        },
        {
         "name": "No",
         "rawType": "int64",
         "type": "integer"
        }
       ],
       "ref": "33a4e91c-5c65-4197-ac06-400df992f004",
       "rows": [
        [
         "0",
         "50",
         "30"
        ],
        [
         "1",
         "10",
         "29"
        ]
       ],
       "shape": {
        "columns": 2,
        "rows": 2
       }
      },
      "text/html": [
       "<div>\n",
       "<style scoped>\n",
       "    .dataframe tbody tr th:only-of-type {\n",
       "        vertical-align: middle;\n",
       "    }\n",
       "\n",
       "    .dataframe tbody tr th {\n",
       "        vertical-align: top;\n",
       "    }\n",
       "\n",
       "    .dataframe thead th {\n",
       "        text-align: right;\n",
       "    }\n",
       "</style>\n",
       "<table border=\"1\" class=\"dataframe\">\n",
       "  <thead>\n",
       "    <tr style=\"text-align: right;\">\n",
       "      <th></th>\n",
       "      <th>Yes</th>\n",
       "      <th>No</th>\n",
       "    </tr>\n",
       "  </thead>\n",
       "  <tbody>\n",
       "    <tr>\n",
       "      <th>0</th>\n",
       "      <td>50</td>\n",
       "      <td>30</td>\n",
       "    </tr>\n",
       "    <tr>\n",
       "      <th>1</th>\n",
       "      <td>10</td>\n",
       "      <td>29</td>\n",
       "    </tr>\n",
       "  </tbody>\n",
       "</table>\n",
       "</div>"
      ],
      "text/plain": [
       "   Yes  No\n",
       "0   50  30\n",
       "1   10  29"
      ]
     },
     "execution_count": 3,
     "metadata": {},
     "output_type": "execute_result"
    }
   ],
   "source": [
    "pd.DataFrame({'Yes':[50,10],'No':[30,29]})"
   ]
  },
  {
   "cell_type": "markdown",
   "id": "bd095681",
   "metadata": {},
   "source": [
    "<!-- Entries can be manipulated with the use of dictionary -->"
   ]
  },
  {
   "cell_type": "code",
   "execution_count": null,
   "id": "f5c258d8",
   "metadata": {},
   "outputs": [
    {
     "data": {
      "application/vnd.microsoft.datawrangler.viewer.v0+json": {
       "columns": [
        {
         "name": "index",
         "rawType": "int64",
         "type": "integer"
        },
        {
         "name": "Yes",
         "rawType": "object",
         "type": "string"
        },
        {
         "name": "No",
         "rawType": "object",
         "type": "string"
        }
       ],
       "ref": "bebc1172-0102-4101-88a8-16517f30d4fa",
       "rows": [
        [
         "1",
         "I am Naveen",
         "I love one piece"
        ],
        [
         "2",
         "I am a ML engineer apperentice",
         "I love anime"
        ]
       ],
       "shape": {
        "columns": 2,
        "rows": 2
       }
      },
      "text/html": [
       "<div>\n",
       "<style scoped>\n",
       "    .dataframe tbody tr th:only-of-type {\n",
       "        vertical-align: middle;\n",
       "    }\n",
       "\n",
       "    .dataframe tbody tr th {\n",
       "        vertical-align: top;\n",
       "    }\n",
       "\n",
       "    .dataframe thead th {\n",
       "        text-align: right;\n",
       "    }\n",
       "</style>\n",
       "<table border=\"1\" class=\"dataframe\">\n",
       "  <thead>\n",
       "    <tr style=\"text-align: right;\">\n",
       "      <th></th>\n",
       "      <th>Yes</th>\n",
       "      <th>No</th>\n",
       "    </tr>\n",
       "  </thead>\n",
       "  <tbody>\n",
       "    <tr>\n",
       "      <th>1</th>\n",
       "      <td>I am Naveen</td>\n",
       "      <td>I love one piece</td>\n",
       "    </tr>\n",
       "    <tr>\n",
       "      <th>2</th>\n",
       "      <td>I am a ML engineer apperentice</td>\n",
       "      <td>I love anime</td>\n",
       "    </tr>\n",
       "  </tbody>\n",
       "</table>\n",
       "</div>"
      ],
      "text/plain": [
       "                              Yes                No\n",
       "1                     I am Naveen  I love one piece\n",
       "2  I am a ML engineer apperentice      I love anime"
      ]
     },
     "execution_count": 4,
     "metadata": {},
     "output_type": "execute_result"
    }
   ],
   "source": [
    "pd.DataFrame({'Yes':[\"I am Naveen\",\"I am a ML engineer apperentice\"],'No':[\"I love one piece\",\"I love anime\"]},index=[1,2])"
   ]
  },
  {
   "cell_type": "markdown",
   "id": "cff09759",
   "metadata": {},
   "source": [
    "<!-- Series is a representation of List, the main difference is it doesnot have a column header -->"
   ]
  },
  {
   "cell_type": "code",
   "execution_count": 5,
   "id": "07cb3842",
   "metadata": {},
   "outputs": [
    {
     "data": {
      "application/vnd.microsoft.datawrangler.viewer.v0+json": {
       "columns": [
        {
         "name": "index",
         "rawType": "int64",
         "type": "integer"
        },
        {
         "name": "0",
         "rawType": "int64",
         "type": "integer"
        }
       ],
       "ref": "6ab74b6b-73c1-4e0d-aa25-be1735291807",
       "rows": [
        [
         "0",
         "1"
        ],
        [
         "1",
         "2"
        ],
        [
         "2",
         "3"
        ],
        [
         "3",
         "4"
        ],
        [
         "4",
         "5"
        ]
       ],
       "shape": {
        "columns": 1,
        "rows": 5
       }
      },
      "text/plain": [
       "0    1\n",
       "1    2\n",
       "2    3\n",
       "3    4\n",
       "4    5\n",
       "dtype: int64"
      ]
     },
     "execution_count": 5,
     "metadata": {},
     "output_type": "execute_result"
    }
   ],
   "source": [
    "pd.Series([1,2,3,4,5])"
   ]
  },
  {
   "cell_type": "code",
   "execution_count": 10,
   "id": "b37defc1",
   "metadata": {},
   "outputs": [
    {
     "data": {
      "application/vnd.microsoft.datawrangler.viewer.v0+json": {
       "columns": [
        {
         "name": "index",
         "rawType": "object",
         "type": "string"
        },
        {
         "name": "Learning",
         "rawType": "int64",
         "type": "integer"
        }
       ],
       "ref": "195780b3-4cbb-42b3-902c-41f40d8b3826",
       "rows": [
        [
         "number1",
         "1"
        ],
        [
         "number2",
         "2"
        ],
        [
         "number3",
         "3"
        ],
        [
         "number4",
         "4"
        ],
        [
         "number5",
         "5"
        ]
       ],
       "shape": {
        "columns": 1,
        "rows": 5
       }
      },
      "text/plain": [
       "number1    1\n",
       "number2    2\n",
       "number3    3\n",
       "number4    4\n",
       "number5    5\n",
       "Name: Learning, dtype: int64"
      ]
     },
     "execution_count": 10,
     "metadata": {},
     "output_type": "execute_result"
    }
   ],
   "source": [
    "pd.Series([1,2,3,4,5],index=[\"number1\",\"number2\",\"number3\",\"number4\",\"number5\"],name='Learning')"
   ]
  },
  {
   "cell_type": "markdown",
   "id": "05ebf099",
   "metadata": {},
   "source": [
    "<!-- The Series and the DataFrame are intimately related. It's helpful to think of a DataFrame as actually being just a bunch of Series \"glued together\". We'll see more of this in the next section of this tutorial.  -->"
   ]
  },
  {
   "cell_type": "code",
   "execution_count": null,
   "id": "99db54e2",
   "metadata": {},
   "outputs": [],
   "source": [
    "toy_dataset=pd.read_csv('toy_dataset.csv',index_col=0)"
   ]
  },
  {
   "cell_type": "code",
   "execution_count": 20,
   "id": "397f1366",
   "metadata": {},
   "outputs": [
    {
     "data": {
      "application/vnd.microsoft.datawrangler.viewer.v0+json": {
       "columns": [
        {
         "name": "Number",
         "rawType": "int64",
         "type": "integer"
        },
        {
         "name": "City",
         "rawType": "object",
         "type": "string"
        },
        {
         "name": "Gender",
         "rawType": "object",
         "type": "string"
        },
        {
         "name": "Age",
         "rawType": "int64",
         "type": "integer"
        },
        {
         "name": "Income",
         "rawType": "float64",
         "type": "float"
        },
        {
         "name": "Illness",
         "rawType": "object",
         "type": "string"
        }
       ],
       "ref": "fb6fdcfe-fe03-4fb2-b71e-3eb47edc1f0b",
       "rows": [
        [
         "1",
         "Dallas",
         "Male",
         "41",
         "40367.0",
         "No"
        ],
        [
         "2",
         "Dallas",
         "Male",
         "54",
         "45084.0",
         "No"
        ],
        [
         "3",
         "Dallas",
         "Male",
         "42",
         "52483.0",
         "No"
        ],
        [
         "4",
         "Dallas",
         "Male",
         "40",
         "40941.0",
         "No"
        ],
        [
         "5",
         "Dallas",
         "Male",
         "46",
         "50289.0",
         "No"
        ]
       ],
       "shape": {
        "columns": 5,
        "rows": 5
       }
      },
      "text/html": [
       "<div>\n",
       "<style scoped>\n",
       "    .dataframe tbody tr th:only-of-type {\n",
       "        vertical-align: middle;\n",
       "    }\n",
       "\n",
       "    .dataframe tbody tr th {\n",
       "        vertical-align: top;\n",
       "    }\n",
       "\n",
       "    .dataframe thead th {\n",
       "        text-align: right;\n",
       "    }\n",
       "</style>\n",
       "<table border=\"1\" class=\"dataframe\">\n",
       "  <thead>\n",
       "    <tr style=\"text-align: right;\">\n",
       "      <th></th>\n",
       "      <th>City</th>\n",
       "      <th>Gender</th>\n",
       "      <th>Age</th>\n",
       "      <th>Income</th>\n",
       "      <th>Illness</th>\n",
       "    </tr>\n",
       "    <tr>\n",
       "      <th>Number</th>\n",
       "      <th></th>\n",
       "      <th></th>\n",
       "      <th></th>\n",
       "      <th></th>\n",
       "      <th></th>\n",
       "    </tr>\n",
       "  </thead>\n",
       "  <tbody>\n",
       "    <tr>\n",
       "      <th>1</th>\n",
       "      <td>Dallas</td>\n",
       "      <td>Male</td>\n",
       "      <td>41</td>\n",
       "      <td>40367.0</td>\n",
       "      <td>No</td>\n",
       "    </tr>\n",
       "    <tr>\n",
       "      <th>2</th>\n",
       "      <td>Dallas</td>\n",
       "      <td>Male</td>\n",
       "      <td>54</td>\n",
       "      <td>45084.0</td>\n",
       "      <td>No</td>\n",
       "    </tr>\n",
       "    <tr>\n",
       "      <th>3</th>\n",
       "      <td>Dallas</td>\n",
       "      <td>Male</td>\n",
       "      <td>42</td>\n",
       "      <td>52483.0</td>\n",
       "      <td>No</td>\n",
       "    </tr>\n",
       "    <tr>\n",
       "      <th>4</th>\n",
       "      <td>Dallas</td>\n",
       "      <td>Male</td>\n",
       "      <td>40</td>\n",
       "      <td>40941.0</td>\n",
       "      <td>No</td>\n",
       "    </tr>\n",
       "    <tr>\n",
       "      <th>5</th>\n",
       "      <td>Dallas</td>\n",
       "      <td>Male</td>\n",
       "      <td>46</td>\n",
       "      <td>50289.0</td>\n",
       "      <td>No</td>\n",
       "    </tr>\n",
       "  </tbody>\n",
       "</table>\n",
       "</div>"
      ],
      "text/plain": [
       "          City Gender  Age   Income Illness\n",
       "Number                                     \n",
       "1       Dallas   Male   41  40367.0      No\n",
       "2       Dallas   Male   54  45084.0      No\n",
       "3       Dallas   Male   42  52483.0      No\n",
       "4       Dallas   Male   40  40941.0      No\n",
       "5       Dallas   Male   46  50289.0      No"
      ]
     },
     "execution_count": 20,
     "metadata": {},
     "output_type": "execute_result"
    }
   ],
   "source": [
    "toy_dataset.head()"
   ]
  },
  {
   "cell_type": "code",
   "execution_count": 21,
   "id": "01249cc4",
   "metadata": {},
   "outputs": [
    {
     "data": {
      "text/plain": [
       "(150000, 5)"
      ]
     },
     "execution_count": 21,
     "metadata": {},
     "output_type": "execute_result"
    }
   ],
   "source": [
    "toy_dataset.shape"
   ]
  },
  {
   "cell_type": "code",
   "execution_count": 22,
   "id": "1c3812f4",
   "metadata": {},
   "outputs": [
    {
     "data": {
      "application/vnd.microsoft.datawrangler.viewer.v0+json": {
       "columns": [
        {
         "name": "Number",
         "rawType": "int64",
         "type": "integer"
        },
        {
         "name": "City",
         "rawType": "object",
         "type": "string"
        }
       ],
       "ref": "1a64a96b-6ecf-475c-8e9b-4a86a8020083",
       "rows": [
        [
         "1",
         "Dallas"
        ],
        [
         "2",
         "Dallas"
        ],
        [
         "3",
         "Dallas"
        ],
        [
         "4",
         "Dallas"
        ],
        [
         "5",
         "Dallas"
        ],
        [
         "6",
         "Dallas"
        ],
        [
         "7",
         "Dallas"
        ],
        [
         "8",
         "Dallas"
        ],
        [
         "9",
         "Dallas"
        ],
        [
         "10",
         "Dallas"
        ],
        [
         "11",
         "Dallas"
        ],
        [
         "12",
         "Dallas"
        ],
        [
         "13",
         "Dallas"
        ],
        [
         "14",
         "Dallas"
        ],
        [
         "15",
         "Dallas"
        ],
        [
         "16",
         "Dallas"
        ],
        [
         "17",
         "Dallas"
        ],
        [
         "18",
         "Dallas"
        ],
        [
         "19",
         "Dallas"
        ],
        [
         "20",
         "Dallas"
        ],
        [
         "21",
         "Dallas"
        ],
        [
         "22",
         "Dallas"
        ],
        [
         "23",
         "Dallas"
        ],
        [
         "24",
         "Dallas"
        ],
        [
         "25",
         "Dallas"
        ],
        [
         "26",
         "Dallas"
        ],
        [
         "27",
         "Dallas"
        ],
        [
         "28",
         "Dallas"
        ],
        [
         "29",
         "Dallas"
        ],
        [
         "30",
         "Dallas"
        ],
        [
         "31",
         "Dallas"
        ],
        [
         "32",
         "Dallas"
        ],
        [
         "33",
         "Dallas"
        ],
        [
         "34",
         "Dallas"
        ],
        [
         "35",
         "Dallas"
        ],
        [
         "36",
         "Dallas"
        ],
        [
         "37",
         "Dallas"
        ],
        [
         "38",
         "Dallas"
        ],
        [
         "39",
         "Dallas"
        ],
        [
         "40",
         "Dallas"
        ],
        [
         "41",
         "Dallas"
        ],
        [
         "42",
         "Dallas"
        ],
        [
         "43",
         "Dallas"
        ],
        [
         "44",
         "Dallas"
        ],
        [
         "45",
         "Dallas"
        ],
        [
         "46",
         "Dallas"
        ],
        [
         "47",
         "Dallas"
        ],
        [
         "48",
         "Dallas"
        ],
        [
         "49",
         "Dallas"
        ],
        [
         "50",
         "Dallas"
        ]
       ],
       "shape": {
        "columns": 1,
        "rows": 150000
       }
      },
      "text/plain": [
       "Number\n",
       "1         Dallas\n",
       "2         Dallas\n",
       "3         Dallas\n",
       "4         Dallas\n",
       "5         Dallas\n",
       "           ...  \n",
       "149996    Austin\n",
       "149997    Austin\n",
       "149998    Austin\n",
       "149999    Austin\n",
       "150000    Austin\n",
       "Name: City, Length: 150000, dtype: object"
      ]
     },
     "execution_count": 22,
     "metadata": {},
     "output_type": "execute_result"
    }
   ],
   "source": [
    "toy_dataset.City"
   ]
  },
  {
   "cell_type": "code",
   "execution_count": 23,
   "id": "3e572aa0",
   "metadata": {},
   "outputs": [
    {
     "data": {
      "application/vnd.microsoft.datawrangler.viewer.v0+json": {
       "columns": [
        {
         "name": "Number",
         "rawType": "int64",
         "type": "integer"
        },
        {
         "name": "Age",
         "rawType": "int64",
         "type": "integer"
        }
       ],
       "ref": "1e4a04f9-1301-4ae9-9a60-5c5d15789114",
       "rows": [
        [
         "1",
         "41"
        ],
        [
         "2",
         "54"
        ],
        [
         "3",
         "42"
        ],
        [
         "4",
         "40"
        ],
        [
         "5",
         "46"
        ],
        [
         "6",
         "36"
        ],
        [
         "7",
         "32"
        ],
        [
         "8",
         "39"
        ],
        [
         "9",
         "51"
        ],
        [
         "10",
         "30"
        ],
        [
         "11",
         "48"
        ],
        [
         "12",
         "47"
        ],
        [
         "13",
         "46"
        ],
        [
         "14",
         "42"
        ],
        [
         "15",
         "61"
        ],
        [
         "16",
         "43"
        ],
        [
         "17",
         "27"
        ],
        [
         "18",
         "38"
        ],
        [
         "19",
         "47"
        ],
        [
         "20",
         "35"
        ],
        [
         "21",
         "57"
        ],
        [
         "22",
         "33"
        ],
        [
         "23",
         "33"
        ],
        [
         "24",
         "27"
        ],
        [
         "25",
         "58"
        ],
        [
         "26",
         "64"
        ],
        [
         "27",
         "58"
        ],
        [
         "28",
         "44"
        ],
        [
         "29",
         "34"
        ],
        [
         "30",
         "45"
        ],
        [
         "31",
         "44"
        ],
        [
         "32",
         "39"
        ],
        [
         "33",
         "55"
        ],
        [
         "34",
         "27"
        ],
        [
         "35",
         "63"
        ],
        [
         "36",
         "41"
        ],
        [
         "37",
         "64"
        ],
        [
         "38",
         "41"
        ],
        [
         "39",
         "61"
        ],
        [
         "40",
         "59"
        ],
        [
         "41",
         "26"
        ],
        [
         "42",
         "41"
        ],
        [
         "43",
         "47"
        ],
        [
         "44",
         "58"
        ],
        [
         "45",
         "33"
        ],
        [
         "46",
         "30"
        ],
        [
         "47",
         "51"
        ],
        [
         "48",
         "45"
        ],
        [
         "49",
         "38"
        ],
        [
         "50",
         "56"
        ]
       ],
       "shape": {
        "columns": 1,
        "rows": 150000
       }
      },
      "text/plain": [
       "Number\n",
       "1         41\n",
       "2         54\n",
       "3         42\n",
       "4         40\n",
       "5         46\n",
       "          ..\n",
       "149996    48\n",
       "149997    25\n",
       "149998    26\n",
       "149999    25\n",
       "150000    37\n",
       "Name: Age, Length: 150000, dtype: int64"
      ]
     },
     "execution_count": 23,
     "metadata": {},
     "output_type": "execute_result"
    }
   ],
   "source": [
    "toy_dataset['Age']"
   ]
  },
  {
   "cell_type": "code",
   "execution_count": 26,
   "id": "d7b2b443",
   "metadata": {},
   "outputs": [
    {
     "data": {
      "text/plain": [
       "'Dallas'"
      ]
     },
     "execution_count": 26,
     "metadata": {},
     "output_type": "execute_result"
    }
   ],
   "source": [
    "toy_dataset['City'][1]"
   ]
  },
  {
   "cell_type": "code",
   "execution_count": 27,
   "id": "7ab6c0fa",
   "metadata": {},
   "outputs": [
    {
     "data": {
      "application/vnd.microsoft.datawrangler.viewer.v0+json": {
       "columns": [
        {
         "name": "index",
         "rawType": "object",
         "type": "string"
        },
        {
         "name": "1",
         "rawType": "object",
         "type": "unknown"
        }
       ],
       "ref": "10180433-2b6f-4bd5-a1af-9f0cb5ca4d14",
       "rows": [
        [
         "City",
         "Dallas"
        ],
        [
         "Gender",
         "Male"
        ],
        [
         "Age",
         "41"
        ],
        [
         "Income",
         "40367.0"
        ],
        [
         "Illness",
         "No"
        ]
       ],
       "shape": {
        "columns": 1,
        "rows": 5
       }
      },
      "text/plain": [
       "City        Dallas\n",
       "Gender        Male\n",
       "Age             41\n",
       "Income     40367.0\n",
       "Illness         No\n",
       "Name: 1, dtype: object"
      ]
     },
     "execution_count": 27,
     "metadata": {},
     "output_type": "execute_result"
    }
   ],
   "source": [
    "toy_dataset.iloc[0]"
   ]
  },
  {
   "cell_type": "code",
   "execution_count": 31,
   "id": "14f397fe",
   "metadata": {},
   "outputs": [
    {
     "data": {
      "application/vnd.microsoft.datawrangler.viewer.v0+json": {
       "columns": [
        {
         "name": "Number",
         "rawType": "int64",
         "type": "integer"
        },
        {
         "name": "City",
         "rawType": "object",
         "type": "string"
        }
       ],
       "ref": "4420717d-468f-461c-ac58-bdfa492a75d1",
       "rows": [
        [
         "1",
         "Dallas"
        ],
        [
         "2",
         "Dallas"
        ],
        [
         "3",
         "Dallas"
        ],
        [
         "4",
         "Dallas"
        ],
        [
         "5",
         "Dallas"
        ],
        [
         "6",
         "Dallas"
        ],
        [
         "7",
         "Dallas"
        ],
        [
         "8",
         "Dallas"
        ],
        [
         "9",
         "Dallas"
        ],
        [
         "10",
         "Dallas"
        ],
        [
         "11",
         "Dallas"
        ],
        [
         "12",
         "Dallas"
        ],
        [
         "13",
         "Dallas"
        ],
        [
         "14",
         "Dallas"
        ],
        [
         "15",
         "Dallas"
        ],
        [
         "16",
         "Dallas"
        ],
        [
         "17",
         "Dallas"
        ],
        [
         "18",
         "Dallas"
        ],
        [
         "19",
         "Dallas"
        ],
        [
         "20",
         "Dallas"
        ],
        [
         "21",
         "Dallas"
        ],
        [
         "22",
         "Dallas"
        ],
        [
         "23",
         "Dallas"
        ],
        [
         "24",
         "Dallas"
        ],
        [
         "25",
         "Dallas"
        ],
        [
         "26",
         "Dallas"
        ],
        [
         "27",
         "Dallas"
        ],
        [
         "28",
         "Dallas"
        ],
        [
         "29",
         "Dallas"
        ],
        [
         "30",
         "Dallas"
        ],
        [
         "31",
         "Dallas"
        ],
        [
         "32",
         "Dallas"
        ],
        [
         "33",
         "Dallas"
        ],
        [
         "34",
         "Dallas"
        ],
        [
         "35",
         "Dallas"
        ],
        [
         "36",
         "Dallas"
        ],
        [
         "37",
         "Dallas"
        ],
        [
         "38",
         "Dallas"
        ],
        [
         "39",
         "Dallas"
        ],
        [
         "40",
         "Dallas"
        ],
        [
         "41",
         "Dallas"
        ],
        [
         "42",
         "Dallas"
        ],
        [
         "43",
         "Dallas"
        ],
        [
         "44",
         "Dallas"
        ],
        [
         "45",
         "Dallas"
        ],
        [
         "46",
         "Dallas"
        ],
        [
         "47",
         "Dallas"
        ],
        [
         "48",
         "Dallas"
        ],
        [
         "49",
         "Dallas"
        ],
        [
         "50",
         "Dallas"
        ]
       ],
       "shape": {
        "columns": 1,
        "rows": 150000
       }
      },
      "text/plain": [
       "Number\n",
       "1         Dallas\n",
       "2         Dallas\n",
       "3         Dallas\n",
       "4         Dallas\n",
       "5         Dallas\n",
       "           ...  \n",
       "149996    Austin\n",
       "149997    Austin\n",
       "149998    Austin\n",
       "149999    Austin\n",
       "150000    Austin\n",
       "Name: City, Length: 150000, dtype: object"
      ]
     },
     "execution_count": 31,
     "metadata": {},
     "output_type": "execute_result"
    }
   ],
   "source": [
    "toy_dataset.iloc[:,0]"
   ]
  },
  {
   "cell_type": "code",
   "execution_count": 33,
   "id": "aa6ca1a3",
   "metadata": {},
   "outputs": [
    {
     "data": {
      "application/vnd.microsoft.datawrangler.viewer.v0+json": {
       "columns": [
        {
         "name": "Number",
         "rawType": "int64",
         "type": "integer"
        },
        {
         "name": "City",
         "rawType": "object",
         "type": "string"
        }
       ],
       "ref": "84d5b3bc-aab8-4257-bd47-981853dc4a74",
       "rows": [
        [
         "1",
         "Dallas"
        ],
        [
         "2",
         "Dallas"
        ],
        [
         "3",
         "Dallas"
        ]
       ],
       "shape": {
        "columns": 1,
        "rows": 3
       }
      },
      "text/plain": [
       "Number\n",
       "1    Dallas\n",
       "2    Dallas\n",
       "3    Dallas\n",
       "Name: City, dtype: object"
      ]
     },
     "execution_count": 33,
     "metadata": {},
     "output_type": "execute_result"
    }
   ],
   "source": [
    "toy_dataset.iloc[:3,0]"
   ]
  },
  {
   "cell_type": "code",
   "execution_count": 43,
   "id": "4cf12781",
   "metadata": {},
   "outputs": [
    {
     "data": {
      "application/vnd.microsoft.datawrangler.viewer.v0+json": {
       "columns": [
        {
         "name": "Number",
         "rawType": "int64",
         "type": "integer"
        },
        {
         "name": "Income",
         "rawType": "float64",
         "type": "float"
        }
       ],
       "ref": "e32c8621-b48e-441b-94f8-89edffd3f9f1",
       "rows": [
        [
         "1",
         "40367.0"
        ],
        [
         "2",
         "45084.0"
        ],
        [
         "3",
         "52483.0"
        ],
        [
         "4",
         "40941.0"
        ],
        [
         "5",
         "50289.0"
        ],
        [
         "6",
         "50786.0"
        ],
        [
         "7",
         "33155.0"
        ],
        [
         "8",
         "30914.0"
        ],
        [
         "9",
         "68667.0"
        ],
        [
         "10",
         "50082.0"
        ],
        [
         "11",
         "41524.0"
        ],
        [
         "12",
         "54777.0"
        ],
        [
         "13",
         "62749.0"
        ],
        [
         "14",
         "50894.0"
        ],
        [
         "15",
         "38429.0"
        ],
        [
         "16",
         "34074.0"
        ],
        [
         "17",
         "50398.0"
        ],
        [
         "18",
         "46373.0"
        ],
        [
         "19",
         "51137.0"
        ],
        [
         "20",
         "23688.0"
        ],
        [
         "21",
         "17378.0"
        ],
        [
         "22",
         "45919.0"
        ],
        [
         "23",
         "23001.0"
        ],
        [
         "24",
         "34292.0"
        ],
        [
         "25",
         "55190.0"
        ],
        [
         "26",
         "26169.0"
        ],
        [
         "27",
         "57322.0"
        ],
        [
         "28",
         "61704.0"
        ],
        [
         "29",
         "53619.0"
        ],
        [
         "30",
         "47421.0"
        ],
        [
         "31",
         "40353.0"
        ],
        [
         "32",
         "28125.0"
        ],
        [
         "33",
         "42630.0"
        ],
        [
         "34",
         "56645.0"
        ],
        [
         "35",
         "41946.0"
        ],
        [
         "36",
         "50312.0"
        ],
        [
         "37",
         "47872.0"
        ],
        [
         "38",
         "29538.0"
        ],
        [
         "39",
         "39881.0"
        ],
        [
         "40",
         "48518.0"
        ],
        [
         "41",
         "16168.0"
        ],
        [
         "42",
         "68522.0"
        ],
        [
         "43",
         "50750.0"
        ],
        [
         "44",
         "49614.0"
        ],
        [
         "45",
         "56169.0"
        ],
        [
         "46",
         "40661.0"
        ],
        [
         "47",
         "53730.0"
        ],
        [
         "48",
         "34613.0"
        ],
        [
         "49",
         "35249.0"
        ],
        [
         "50",
         "52218.0"
        ]
       ],
       "shape": {
        "columns": 1,
        "rows": 150000
       }
      },
      "text/plain": [
       "Number\n",
       "1          40367.0\n",
       "2          45084.0\n",
       "3          52483.0\n",
       "4          40941.0\n",
       "5          50289.0\n",
       "            ...   \n",
       "149996     93669.0\n",
       "149997     96748.0\n",
       "149998    111885.0\n",
       "149999    111878.0\n",
       "150000     87251.0\n",
       "Name: Income, Length: 150000, dtype: float64"
      ]
     },
     "execution_count": 43,
     "metadata": {},
     "output_type": "execute_result"
    }
   ],
   "source": [
    "toy_dataset.iloc[:,3]"
   ]
  },
  {
   "cell_type": "code",
   "execution_count": 39,
   "id": "64280c62",
   "metadata": {},
   "outputs": [
    {
     "data": {
      "text/plain": [
       "np.float64(40367.0)"
      ]
     },
     "execution_count": 39,
     "metadata": {},
     "output_type": "execute_result"
    }
   ],
   "source": [
    "toy_dataset.loc[1,'Income']"
   ]
  },
  {
   "cell_type": "code",
   "execution_count": 46,
   "id": "0538b61f",
   "metadata": {},
   "outputs": [
    {
     "data": {
      "application/vnd.microsoft.datawrangler.viewer.v0+json": {
       "columns": [
        {
         "name": "Income",
         "rawType": "float64",
         "type": "float"
        },
        {
         "name": "City",
         "rawType": "object",
         "type": "string"
        },
        {
         "name": "Gender",
         "rawType": "object",
         "type": "string"
        },
        {
         "name": "Age",
         "rawType": "int64",
         "type": "integer"
        },
        {
         "name": "Illness",
         "rawType": "object",
         "type": "string"
        }
       ],
       "ref": "687de6e7-d20e-40ac-9e74-45739c77b8f1",
       "rows": [
        [
         "40367.0",
         "Dallas",
         "Male",
         "41",
         "No"
        ],
        [
         "45084.0",
         "Dallas",
         "Male",
         "54",
         "No"
        ],
        [
         "52483.0",
         "Dallas",
         "Male",
         "42",
         "No"
        ],
        [
         "40941.0",
         "Dallas",
         "Male",
         "40",
         "No"
        ],
        [
         "50289.0",
         "Dallas",
         "Male",
         "46",
         "No"
        ],
        [
         "50786.0",
         "Dallas",
         "Female",
         "36",
         "No"
        ],
        [
         "33155.0",
         "Dallas",
         "Female",
         "32",
         "No"
        ],
        [
         "30914.0",
         "Dallas",
         "Male",
         "39",
         "No"
        ],
        [
         "68667.0",
         "Dallas",
         "Male",
         "51",
         "No"
        ],
        [
         "50082.0",
         "Dallas",
         "Female",
         "30",
         "No"
        ],
        [
         "41524.0",
         "Dallas",
         "Female",
         "48",
         "Yes"
        ],
        [
         "54777.0",
         "Dallas",
         "Male",
         "47",
         "No"
        ],
        [
         "62749.0",
         "Dallas",
         "Male",
         "46",
         "No"
        ],
        [
         "50894.0",
         "Dallas",
         "Female",
         "42",
         "No"
        ],
        [
         "38429.0",
         "Dallas",
         "Female",
         "61",
         "No"
        ],
        [
         "34074.0",
         "Dallas",
         "Male",
         "43",
         "No"
        ],
        [
         "50398.0",
         "Dallas",
         "Male",
         "27",
         "No"
        ],
        [
         "46373.0",
         "Dallas",
         "Male",
         "38",
         "Yes"
        ],
        [
         "51137.0",
         "Dallas",
         "Male",
         "47",
         "No"
        ],
        [
         "23688.0",
         "Dallas",
         "Female",
         "35",
         "No"
        ],
        [
         "17378.0",
         "Dallas",
         "Male",
         "57",
         "No"
        ],
        [
         "45919.0",
         "Dallas",
         "Male",
         "33",
         "No"
        ],
        [
         "23001.0",
         "Dallas",
         "Female",
         "33",
         "No"
        ],
        [
         "34292.0",
         "Dallas",
         "Female",
         "27",
         "Yes"
        ],
        [
         "55190.0",
         "Dallas",
         "Male",
         "58",
         "No"
        ],
        [
         "26169.0",
         "Dallas",
         "Male",
         "64",
         "No"
        ],
        [
         "57322.0",
         "Dallas",
         "Male",
         "58",
         "No"
        ],
        [
         "61704.0",
         "Dallas",
         "Male",
         "44",
         "No"
        ],
        [
         "53619.0",
         "Dallas",
         "Male",
         "34",
         "No"
        ],
        [
         "47421.0",
         "Dallas",
         "Male",
         "45",
         "Yes"
        ],
        [
         "40353.0",
         "Dallas",
         "Female",
         "44",
         "No"
        ],
        [
         "28125.0",
         "Dallas",
         "Male",
         "39",
         "No"
        ],
        [
         "42630.0",
         "Dallas",
         "Female",
         "55",
         "No"
        ],
        [
         "56645.0",
         "Dallas",
         "Male",
         "27",
         "No"
        ],
        [
         "41946.0",
         "Dallas",
         "Female",
         "63",
         "No"
        ],
        [
         "50312.0",
         "Dallas",
         "Male",
         "41",
         "No"
        ],
        [
         "47872.0",
         "Dallas",
         "Male",
         "64",
         "No"
        ],
        [
         "29538.0",
         "Dallas",
         "Female",
         "41",
         "No"
        ],
        [
         "39881.0",
         "Dallas",
         "Female",
         "61",
         "Yes"
        ],
        [
         "48518.0",
         "Dallas",
         "Female",
         "59",
         "No"
        ],
        [
         "16168.0",
         "Dallas",
         "Female",
         "26",
         "Yes"
        ],
        [
         "68522.0",
         "Dallas",
         "Male",
         "41",
         "No"
        ],
        [
         "50750.0",
         "Dallas",
         "Female",
         "47",
         "No"
        ],
        [
         "49614.0",
         "Dallas",
         "Female",
         "58",
         "No"
        ],
        [
         "56169.0",
         "Dallas",
         "Male",
         "33",
         "No"
        ],
        [
         "40661.0",
         "Dallas",
         "Female",
         "30",
         "No"
        ],
        [
         "53730.0",
         "Dallas",
         "Male",
         "51",
         "No"
        ],
        [
         "34613.0",
         "Dallas",
         "Female",
         "45",
         "No"
        ],
        [
         "35249.0",
         "Dallas",
         "Female",
         "38",
         "No"
        ],
        [
         "52218.0",
         "Dallas",
         "Female",
         "56",
         "No"
        ]
       ],
       "shape": {
        "columns": 4,
        "rows": 150000
       }
      },
      "text/html": [
       "<div>\n",
       "<style scoped>\n",
       "    .dataframe tbody tr th:only-of-type {\n",
       "        vertical-align: middle;\n",
       "    }\n",
       "\n",
       "    .dataframe tbody tr th {\n",
       "        vertical-align: top;\n",
       "    }\n",
       "\n",
       "    .dataframe thead th {\n",
       "        text-align: right;\n",
       "    }\n",
       "</style>\n",
       "<table border=\"1\" class=\"dataframe\">\n",
       "  <thead>\n",
       "    <tr style=\"text-align: right;\">\n",
       "      <th></th>\n",
       "      <th>City</th>\n",
       "      <th>Gender</th>\n",
       "      <th>Age</th>\n",
       "      <th>Illness</th>\n",
       "    </tr>\n",
       "    <tr>\n",
       "      <th>Income</th>\n",
       "      <th></th>\n",
       "      <th></th>\n",
       "      <th></th>\n",
       "      <th></th>\n",
       "    </tr>\n",
       "  </thead>\n",
       "  <tbody>\n",
       "    <tr>\n",
       "      <th>40367.0</th>\n",
       "      <td>Dallas</td>\n",
       "      <td>Male</td>\n",
       "      <td>41</td>\n",
       "      <td>No</td>\n",
       "    </tr>\n",
       "    <tr>\n",
       "      <th>45084.0</th>\n",
       "      <td>Dallas</td>\n",
       "      <td>Male</td>\n",
       "      <td>54</td>\n",
       "      <td>No</td>\n",
       "    </tr>\n",
       "    <tr>\n",
       "      <th>52483.0</th>\n",
       "      <td>Dallas</td>\n",
       "      <td>Male</td>\n",
       "      <td>42</td>\n",
       "      <td>No</td>\n",
       "    </tr>\n",
       "    <tr>\n",
       "      <th>40941.0</th>\n",
       "      <td>Dallas</td>\n",
       "      <td>Male</td>\n",
       "      <td>40</td>\n",
       "      <td>No</td>\n",
       "    </tr>\n",
       "    <tr>\n",
       "      <th>50289.0</th>\n",
       "      <td>Dallas</td>\n",
       "      <td>Male</td>\n",
       "      <td>46</td>\n",
       "      <td>No</td>\n",
       "    </tr>\n",
       "    <tr>\n",
       "      <th>...</th>\n",
       "      <td>...</td>\n",
       "      <td>...</td>\n",
       "      <td>...</td>\n",
       "      <td>...</td>\n",
       "    </tr>\n",
       "    <tr>\n",
       "      <th>93669.0</th>\n",
       "      <td>Austin</td>\n",
       "      <td>Male</td>\n",
       "      <td>48</td>\n",
       "      <td>No</td>\n",
       "    </tr>\n",
       "    <tr>\n",
       "      <th>96748.0</th>\n",
       "      <td>Austin</td>\n",
       "      <td>Male</td>\n",
       "      <td>25</td>\n",
       "      <td>No</td>\n",
       "    </tr>\n",
       "    <tr>\n",
       "      <th>111885.0</th>\n",
       "      <td>Austin</td>\n",
       "      <td>Male</td>\n",
       "      <td>26</td>\n",
       "      <td>No</td>\n",
       "    </tr>\n",
       "    <tr>\n",
       "      <th>111878.0</th>\n",
       "      <td>Austin</td>\n",
       "      <td>Male</td>\n",
       "      <td>25</td>\n",
       "      <td>No</td>\n",
       "    </tr>\n",
       "    <tr>\n",
       "      <th>87251.0</th>\n",
       "      <td>Austin</td>\n",
       "      <td>Female</td>\n",
       "      <td>37</td>\n",
       "      <td>No</td>\n",
       "    </tr>\n",
       "  </tbody>\n",
       "</table>\n",
       "<p>150000 rows × 4 columns</p>\n",
       "</div>"
      ],
      "text/plain": [
       "            City  Gender  Age Illness\n",
       "Income                               \n",
       "40367.0   Dallas    Male   41      No\n",
       "45084.0   Dallas    Male   54      No\n",
       "52483.0   Dallas    Male   42      No\n",
       "40941.0   Dallas    Male   40      No\n",
       "50289.0   Dallas    Male   46      No\n",
       "...          ...     ...  ...     ...\n",
       "93669.0   Austin    Male   48      No\n",
       "96748.0   Austin    Male   25      No\n",
       "111885.0  Austin    Male   26      No\n",
       "111878.0  Austin    Male   25      No\n",
       "87251.0   Austin  Female   37      No\n",
       "\n",
       "[150000 rows x 4 columns]"
      ]
     },
     "execution_count": 46,
     "metadata": {},
     "output_type": "execute_result"
    }
   ],
   "source": [
    "toy_dataset.set_index(\"Income\")"
   ]
  },
  {
   "cell_type": "code",
   "execution_count": 47,
   "id": "45a66700",
   "metadata": {},
   "outputs": [
    {
     "data": {
      "application/vnd.microsoft.datawrangler.viewer.v0+json": {
       "columns": [
        {
         "name": "Number",
         "rawType": "int64",
         "type": "integer"
        },
        {
         "name": "City",
         "rawType": "bool",
         "type": "boolean"
        }
       ],
       "ref": "9605d641-82df-40a1-a817-b842a1eac490",
       "rows": [
        [
         "1",
         "True"
        ],
        [
         "2",
         "True"
        ],
        [
         "3",
         "True"
        ],
        [
         "4",
         "True"
        ],
        [
         "5",
         "True"
        ],
        [
         "6",
         "True"
        ],
        [
         "7",
         "True"
        ],
        [
         "8",
         "True"
        ],
        [
         "9",
         "True"
        ],
        [
         "10",
         "True"
        ],
        [
         "11",
         "True"
        ],
        [
         "12",
         "True"
        ],
        [
         "13",
         "True"
        ],
        [
         "14",
         "True"
        ],
        [
         "15",
         "True"
        ],
        [
         "16",
         "True"
        ],
        [
         "17",
         "True"
        ],
        [
         "18",
         "True"
        ],
        [
         "19",
         "True"
        ],
        [
         "20",
         "True"
        ],
        [
         "21",
         "True"
        ],
        [
         "22",
         "True"
        ],
        [
         "23",
         "True"
        ],
        [
         "24",
         "True"
        ],
        [
         "25",
         "True"
        ],
        [
         "26",
         "True"
        ],
        [
         "27",
         "True"
        ],
        [
         "28",
         "True"
        ],
        [
         "29",
         "True"
        ],
        [
         "30",
         "True"
        ],
        [
         "31",
         "True"
        ],
        [
         "32",
         "True"
        ],
        [
         "33",
         "True"
        ],
        [
         "34",
         "True"
        ],
        [
         "35",
         "True"
        ],
        [
         "36",
         "True"
        ],
        [
         "37",
         "True"
        ],
        [
         "38",
         "True"
        ],
        [
         "39",
         "True"
        ],
        [
         "40",
         "True"
        ],
        [
         "41",
         "True"
        ],
        [
         "42",
         "True"
        ],
        [
         "43",
         "True"
        ],
        [
         "44",
         "True"
        ],
        [
         "45",
         "True"
        ],
        [
         "46",
         "True"
        ],
        [
         "47",
         "True"
        ],
        [
         "48",
         "True"
        ],
        [
         "49",
         "True"
        ],
        [
         "50",
         "True"
        ]
       ],
       "shape": {
        "columns": 1,
        "rows": 150000
       }
      },
      "text/plain": [
       "Number\n",
       "1          True\n",
       "2          True\n",
       "3          True\n",
       "4          True\n",
       "5          True\n",
       "          ...  \n",
       "149996    False\n",
       "149997    False\n",
       "149998    False\n",
       "149999    False\n",
       "150000    False\n",
       "Name: City, Length: 150000, dtype: bool"
      ]
     },
     "execution_count": 47,
     "metadata": {},
     "output_type": "execute_result"
    }
   ],
   "source": [
    "toy_dataset.City=='Dallas'"
   ]
  },
  {
   "cell_type": "code",
   "execution_count": 48,
   "id": "4a80c0d1",
   "metadata": {},
   "outputs": [
    {
     "data": {
      "application/vnd.microsoft.datawrangler.viewer.v0+json": {
       "columns": [
        {
         "name": "Number",
         "rawType": "int64",
         "type": "integer"
        },
        {
         "name": "City",
         "rawType": "object",
         "type": "string"
        },
        {
         "name": "Gender",
         "rawType": "object",
         "type": "string"
        },
        {
         "name": "Age",
         "rawType": "int64",
         "type": "integer"
        },
        {
         "name": "Income",
         "rawType": "float64",
         "type": "float"
        },
        {
         "name": "Illness",
         "rawType": "object",
         "type": "string"
        }
       ],
       "ref": "0118c7b7-08c7-43ff-92cd-8b2dad664337",
       "rows": [
        [
         "1",
         "Dallas",
         "Male",
         "41",
         "40367.0",
         "No"
        ],
        [
         "2",
         "Dallas",
         "Male",
         "54",
         "45084.0",
         "No"
        ],
        [
         "3",
         "Dallas",
         "Male",
         "42",
         "52483.0",
         "No"
        ],
        [
         "4",
         "Dallas",
         "Male",
         "40",
         "40941.0",
         "No"
        ],
        [
         "5",
         "Dallas",
         "Male",
         "46",
         "50289.0",
         "No"
        ],
        [
         "6",
         "Dallas",
         "Female",
         "36",
         "50786.0",
         "No"
        ],
        [
         "7",
         "Dallas",
         "Female",
         "32",
         "33155.0",
         "No"
        ],
        [
         "8",
         "Dallas",
         "Male",
         "39",
         "30914.0",
         "No"
        ],
        [
         "9",
         "Dallas",
         "Male",
         "51",
         "68667.0",
         "No"
        ],
        [
         "10",
         "Dallas",
         "Female",
         "30",
         "50082.0",
         "No"
        ],
        [
         "11",
         "Dallas",
         "Female",
         "48",
         "41524.0",
         "Yes"
        ],
        [
         "12",
         "Dallas",
         "Male",
         "47",
         "54777.0",
         "No"
        ],
        [
         "13",
         "Dallas",
         "Male",
         "46",
         "62749.0",
         "No"
        ],
        [
         "14",
         "Dallas",
         "Female",
         "42",
         "50894.0",
         "No"
        ],
        [
         "15",
         "Dallas",
         "Female",
         "61",
         "38429.0",
         "No"
        ],
        [
         "16",
         "Dallas",
         "Male",
         "43",
         "34074.0",
         "No"
        ],
        [
         "17",
         "Dallas",
         "Male",
         "27",
         "50398.0",
         "No"
        ],
        [
         "18",
         "Dallas",
         "Male",
         "38",
         "46373.0",
         "Yes"
        ],
        [
         "19",
         "Dallas",
         "Male",
         "47",
         "51137.0",
         "No"
        ],
        [
         "20",
         "Dallas",
         "Female",
         "35",
         "23688.0",
         "No"
        ],
        [
         "21",
         "Dallas",
         "Male",
         "57",
         "17378.0",
         "No"
        ],
        [
         "22",
         "Dallas",
         "Male",
         "33",
         "45919.0",
         "No"
        ],
        [
         "23",
         "Dallas",
         "Female",
         "33",
         "23001.0",
         "No"
        ],
        [
         "24",
         "Dallas",
         "Female",
         "27",
         "34292.0",
         "Yes"
        ],
        [
         "25",
         "Dallas",
         "Male",
         "58",
         "55190.0",
         "No"
        ],
        [
         "26",
         "Dallas",
         "Male",
         "64",
         "26169.0",
         "No"
        ],
        [
         "27",
         "Dallas",
         "Male",
         "58",
         "57322.0",
         "No"
        ],
        [
         "28",
         "Dallas",
         "Male",
         "44",
         "61704.0",
         "No"
        ],
        [
         "29",
         "Dallas",
         "Male",
         "34",
         "53619.0",
         "No"
        ],
        [
         "30",
         "Dallas",
         "Male",
         "45",
         "47421.0",
         "Yes"
        ],
        [
         "31",
         "Dallas",
         "Female",
         "44",
         "40353.0",
         "No"
        ],
        [
         "32",
         "Dallas",
         "Male",
         "39",
         "28125.0",
         "No"
        ],
        [
         "33",
         "Dallas",
         "Female",
         "55",
         "42630.0",
         "No"
        ],
        [
         "34",
         "Dallas",
         "Male",
         "27",
         "56645.0",
         "No"
        ],
        [
         "35",
         "Dallas",
         "Female",
         "63",
         "41946.0",
         "No"
        ],
        [
         "36",
         "Dallas",
         "Male",
         "41",
         "50312.0",
         "No"
        ],
        [
         "37",
         "Dallas",
         "Male",
         "64",
         "47872.0",
         "No"
        ],
        [
         "38",
         "Dallas",
         "Female",
         "41",
         "29538.0",
         "No"
        ],
        [
         "39",
         "Dallas",
         "Female",
         "61",
         "39881.0",
         "Yes"
        ],
        [
         "40",
         "Dallas",
         "Female",
         "59",
         "48518.0",
         "No"
        ],
        [
         "41",
         "Dallas",
         "Female",
         "26",
         "16168.0",
         "Yes"
        ],
        [
         "42",
         "Dallas",
         "Male",
         "41",
         "68522.0",
         "No"
        ],
        [
         "43",
         "Dallas",
         "Female",
         "47",
         "50750.0",
         "No"
        ],
        [
         "44",
         "Dallas",
         "Female",
         "58",
         "49614.0",
         "No"
        ],
        [
         "45",
         "Dallas",
         "Male",
         "33",
         "56169.0",
         "No"
        ],
        [
         "46",
         "Dallas",
         "Female",
         "30",
         "40661.0",
         "No"
        ],
        [
         "47",
         "Dallas",
         "Male",
         "51",
         "53730.0",
         "No"
        ],
        [
         "48",
         "Dallas",
         "Female",
         "45",
         "34613.0",
         "No"
        ],
        [
         "49",
         "Dallas",
         "Female",
         "38",
         "35249.0",
         "No"
        ],
        [
         "50",
         "Dallas",
         "Female",
         "56",
         "52218.0",
         "No"
        ]
       ],
       "shape": {
        "columns": 5,
        "rows": 19707
       }
      },
      "text/html": [
       "<div>\n",
       "<style scoped>\n",
       "    .dataframe tbody tr th:only-of-type {\n",
       "        vertical-align: middle;\n",
       "    }\n",
       "\n",
       "    .dataframe tbody tr th {\n",
       "        vertical-align: top;\n",
       "    }\n",
       "\n",
       "    .dataframe thead th {\n",
       "        text-align: right;\n",
       "    }\n",
       "</style>\n",
       "<table border=\"1\" class=\"dataframe\">\n",
       "  <thead>\n",
       "    <tr style=\"text-align: right;\">\n",
       "      <th></th>\n",
       "      <th>City</th>\n",
       "      <th>Gender</th>\n",
       "      <th>Age</th>\n",
       "      <th>Income</th>\n",
       "      <th>Illness</th>\n",
       "    </tr>\n",
       "    <tr>\n",
       "      <th>Number</th>\n",
       "      <th></th>\n",
       "      <th></th>\n",
       "      <th></th>\n",
       "      <th></th>\n",
       "      <th></th>\n",
       "    </tr>\n",
       "  </thead>\n",
       "  <tbody>\n",
       "    <tr>\n",
       "      <th>1</th>\n",
       "      <td>Dallas</td>\n",
       "      <td>Male</td>\n",
       "      <td>41</td>\n",
       "      <td>40367.0</td>\n",
       "      <td>No</td>\n",
       "    </tr>\n",
       "    <tr>\n",
       "      <th>2</th>\n",
       "      <td>Dallas</td>\n",
       "      <td>Male</td>\n",
       "      <td>54</td>\n",
       "      <td>45084.0</td>\n",
       "      <td>No</td>\n",
       "    </tr>\n",
       "    <tr>\n",
       "      <th>3</th>\n",
       "      <td>Dallas</td>\n",
       "      <td>Male</td>\n",
       "      <td>42</td>\n",
       "      <td>52483.0</td>\n",
       "      <td>No</td>\n",
       "    </tr>\n",
       "    <tr>\n",
       "      <th>4</th>\n",
       "      <td>Dallas</td>\n",
       "      <td>Male</td>\n",
       "      <td>40</td>\n",
       "      <td>40941.0</td>\n",
       "      <td>No</td>\n",
       "    </tr>\n",
       "    <tr>\n",
       "      <th>5</th>\n",
       "      <td>Dallas</td>\n",
       "      <td>Male</td>\n",
       "      <td>46</td>\n",
       "      <td>50289.0</td>\n",
       "      <td>No</td>\n",
       "    </tr>\n",
       "    <tr>\n",
       "      <th>...</th>\n",
       "      <td>...</td>\n",
       "      <td>...</td>\n",
       "      <td>...</td>\n",
       "      <td>...</td>\n",
       "      <td>...</td>\n",
       "    </tr>\n",
       "    <tr>\n",
       "      <th>19703</th>\n",
       "      <td>Dallas</td>\n",
       "      <td>Female</td>\n",
       "      <td>59</td>\n",
       "      <td>30021.0</td>\n",
       "      <td>No</td>\n",
       "    </tr>\n",
       "    <tr>\n",
       "      <th>19704</th>\n",
       "      <td>Dallas</td>\n",
       "      <td>Male</td>\n",
       "      <td>33</td>\n",
       "      <td>34643.0</td>\n",
       "      <td>No</td>\n",
       "    </tr>\n",
       "    <tr>\n",
       "      <th>19705</th>\n",
       "      <td>Dallas</td>\n",
       "      <td>Male</td>\n",
       "      <td>33</td>\n",
       "      <td>53190.0</td>\n",
       "      <td>No</td>\n",
       "    </tr>\n",
       "    <tr>\n",
       "      <th>19706</th>\n",
       "      <td>Dallas</td>\n",
       "      <td>Male</td>\n",
       "      <td>37</td>\n",
       "      <td>54265.0</td>\n",
       "      <td>No</td>\n",
       "    </tr>\n",
       "    <tr>\n",
       "      <th>19707</th>\n",
       "      <td>Dallas</td>\n",
       "      <td>Male</td>\n",
       "      <td>59</td>\n",
       "      <td>51265.0</td>\n",
       "      <td>No</td>\n",
       "    </tr>\n",
       "  </tbody>\n",
       "</table>\n",
       "<p>19707 rows × 5 columns</p>\n",
       "</div>"
      ],
      "text/plain": [
       "          City  Gender  Age   Income Illness\n",
       "Number                                      \n",
       "1       Dallas    Male   41  40367.0      No\n",
       "2       Dallas    Male   54  45084.0      No\n",
       "3       Dallas    Male   42  52483.0      No\n",
       "4       Dallas    Male   40  40941.0      No\n",
       "5       Dallas    Male   46  50289.0      No\n",
       "...        ...     ...  ...      ...     ...\n",
       "19703   Dallas  Female   59  30021.0      No\n",
       "19704   Dallas    Male   33  34643.0      No\n",
       "19705   Dallas    Male   33  53190.0      No\n",
       "19706   Dallas    Male   37  54265.0      No\n",
       "19707   Dallas    Male   59  51265.0      No\n",
       "\n",
       "[19707 rows x 5 columns]"
      ]
     },
     "execution_count": 48,
     "metadata": {},
     "output_type": "execute_result"
    }
   ],
   "source": [
    "toy_dataset.loc[toy_dataset.City=='Dallas']"
   ]
  },
  {
   "cell_type": "code",
   "execution_count": 52,
   "id": "8a6429ad",
   "metadata": {},
   "outputs": [
    {
     "data": {
      "application/vnd.microsoft.datawrangler.viewer.v0+json": {
       "columns": [
        {
         "name": "Number",
         "rawType": "int64",
         "type": "integer"
        },
        {
         "name": "City",
         "rawType": "object",
         "type": "string"
        },
        {
         "name": "Gender",
         "rawType": "object",
         "type": "string"
        },
        {
         "name": "Age",
         "rawType": "int64",
         "type": "integer"
        },
        {
         "name": "Income",
         "rawType": "float64",
         "type": "float"
        },
        {
         "name": "Illness",
         "rawType": "object",
         "type": "string"
        }
       ],
       "ref": "4fb2c1b2-122f-4fe1-9094-edb31c72b761",
       "rows": [
        [
         "1",
         "Dallas",
         "Male",
         "41",
         "40367.0",
         "No"
        ],
        [
         "36",
         "Dallas",
         "Male",
         "41",
         "50312.0",
         "No"
        ],
        [
         "38",
         "Dallas",
         "Female",
         "41",
         "29538.0",
         "No"
        ],
        [
         "42",
         "Dallas",
         "Male",
         "41",
         "68522.0",
         "No"
        ],
        [
         "75",
         "Dallas",
         "Female",
         "41",
         "27897.0",
         "No"
        ],
        [
         "186",
         "Dallas",
         "Female",
         "41",
         "25012.0",
         "No"
        ],
        [
         "217",
         "Dallas",
         "Female",
         "41",
         "35209.0",
         "No"
        ],
        [
         "255",
         "Dallas",
         "Male",
         "41",
         "61051.0",
         "No"
        ],
        [
         "289",
         "Dallas",
         "Male",
         "41",
         "45878.0",
         "No"
        ],
        [
         "299",
         "Dallas",
         "Male",
         "41",
         "51131.0",
         "No"
        ],
        [
         "447",
         "Dallas",
         "Male",
         "41",
         "52087.0",
         "No"
        ],
        [
         "464",
         "Dallas",
         "Male",
         "41",
         "48400.0",
         "No"
        ],
        [
         "465",
         "Dallas",
         "Male",
         "41",
         "39335.0",
         "No"
        ],
        [
         "473",
         "Dallas",
         "Male",
         "41",
         "64692.0",
         "Yes"
        ],
        [
         "482",
         "Dallas",
         "Male",
         "41",
         "56665.0",
         "No"
        ],
        [
         "514",
         "Dallas",
         "Male",
         "41",
         "58810.0",
         "No"
        ],
        [
         "524",
         "Dallas",
         "Male",
         "41",
         "41605.0",
         "No"
        ],
        [
         "554",
         "Dallas",
         "Female",
         "41",
         "47544.0",
         "No"
        ],
        [
         "567",
         "Dallas",
         "Female",
         "41",
         "44699.0",
         "No"
        ],
        [
         "640",
         "Dallas",
         "Male",
         "41",
         "64982.0",
         "No"
        ],
        [
         "645",
         "Dallas",
         "Female",
         "41",
         "50469.0",
         "No"
        ],
        [
         "693",
         "Dallas",
         "Male",
         "41",
         "54310.0",
         "No"
        ],
        [
         "705",
         "Dallas",
         "Male",
         "41",
         "43035.0",
         "No"
        ],
        [
         "791",
         "Dallas",
         "Female",
         "41",
         "32022.0",
         "No"
        ],
        [
         "850",
         "Dallas",
         "Female",
         "41",
         "53618.0",
         "No"
        ],
        [
         "876",
         "Dallas",
         "Male",
         "41",
         "51876.0",
         "No"
        ],
        [
         "959",
         "Dallas",
         "Male",
         "41",
         "42034.0",
         "No"
        ],
        [
         "1023",
         "Dallas",
         "Female",
         "41",
         "36271.0",
         "No"
        ],
        [
         "1115",
         "Dallas",
         "Female",
         "41",
         "29185.0",
         "No"
        ],
        [
         "1216",
         "Dallas",
         "Male",
         "41",
         "51953.0",
         "No"
        ],
        [
         "1231",
         "Dallas",
         "Male",
         "41",
         "40716.0",
         "No"
        ],
        [
         "1275",
         "Dallas",
         "Female",
         "41",
         "43713.0",
         "No"
        ],
        [
         "1340",
         "Dallas",
         "Male",
         "41",
         "46134.0",
         "No"
        ],
        [
         "1387",
         "Dallas",
         "Female",
         "41",
         "43656.0",
         "No"
        ],
        [
         "1460",
         "Dallas",
         "Male",
         "41",
         "56620.0",
         "No"
        ],
        [
         "1542",
         "Dallas",
         "Female",
         "41",
         "32459.0",
         "No"
        ],
        [
         "1703",
         "Dallas",
         "Female",
         "41",
         "36209.0",
         "No"
        ],
        [
         "1782",
         "Dallas",
         "Female",
         "41",
         "37061.0",
         "No"
        ],
        [
         "1828",
         "Dallas",
         "Male",
         "41",
         "54326.0",
         "No"
        ],
        [
         "1869",
         "Dallas",
         "Male",
         "41",
         "46451.0",
         "No"
        ],
        [
         "1873",
         "Dallas",
         "Male",
         "41",
         "41238.0",
         "No"
        ],
        [
         "1897",
         "Dallas",
         "Male",
         "41",
         "46825.0",
         "No"
        ],
        [
         "1900",
         "Dallas",
         "Male",
         "41",
         "34775.0",
         "No"
        ],
        [
         "1917",
         "Dallas",
         "Female",
         "41",
         "33789.0",
         "No"
        ],
        [
         "1930",
         "Dallas",
         "Female",
         "41",
         "33683.0",
         "No"
        ],
        [
         "1940",
         "Dallas",
         "Female",
         "41",
         "38289.0",
         "No"
        ],
        [
         "2020",
         "Dallas",
         "Male",
         "41",
         "58813.0",
         "No"
        ],
        [
         "2076",
         "Dallas",
         "Male",
         "41",
         "54017.0",
         "Yes"
        ],
        [
         "2127",
         "Dallas",
         "Male",
         "41",
         "39266.0",
         "No"
        ],
        [
         "2186",
         "Dallas",
         "Male",
         "41",
         "50176.0",
         "No"
        ]
       ],
       "shape": {
        "columns": 5,
        "rows": 3862
       }
      },
      "text/html": [
       "<div>\n",
       "<style scoped>\n",
       "    .dataframe tbody tr th:only-of-type {\n",
       "        vertical-align: middle;\n",
       "    }\n",
       "\n",
       "    .dataframe tbody tr th {\n",
       "        vertical-align: top;\n",
       "    }\n",
       "\n",
       "    .dataframe thead th {\n",
       "        text-align: right;\n",
       "    }\n",
       "</style>\n",
       "<table border=\"1\" class=\"dataframe\">\n",
       "  <thead>\n",
       "    <tr style=\"text-align: right;\">\n",
       "      <th></th>\n",
       "      <th>City</th>\n",
       "      <th>Gender</th>\n",
       "      <th>Age</th>\n",
       "      <th>Income</th>\n",
       "      <th>Illness</th>\n",
       "    </tr>\n",
       "    <tr>\n",
       "      <th>Number</th>\n",
       "      <th></th>\n",
       "      <th></th>\n",
       "      <th></th>\n",
       "      <th></th>\n",
       "      <th></th>\n",
       "    </tr>\n",
       "  </thead>\n",
       "  <tbody>\n",
       "    <tr>\n",
       "      <th>1</th>\n",
       "      <td>Dallas</td>\n",
       "      <td>Male</td>\n",
       "      <td>41</td>\n",
       "      <td>40367.0</td>\n",
       "      <td>No</td>\n",
       "    </tr>\n",
       "    <tr>\n",
       "      <th>36</th>\n",
       "      <td>Dallas</td>\n",
       "      <td>Male</td>\n",
       "      <td>41</td>\n",
       "      <td>50312.0</td>\n",
       "      <td>No</td>\n",
       "    </tr>\n",
       "    <tr>\n",
       "      <th>38</th>\n",
       "      <td>Dallas</td>\n",
       "      <td>Female</td>\n",
       "      <td>41</td>\n",
       "      <td>29538.0</td>\n",
       "      <td>No</td>\n",
       "    </tr>\n",
       "    <tr>\n",
       "      <th>42</th>\n",
       "      <td>Dallas</td>\n",
       "      <td>Male</td>\n",
       "      <td>41</td>\n",
       "      <td>68522.0</td>\n",
       "      <td>No</td>\n",
       "    </tr>\n",
       "    <tr>\n",
       "      <th>75</th>\n",
       "      <td>Dallas</td>\n",
       "      <td>Female</td>\n",
       "      <td>41</td>\n",
       "      <td>27897.0</td>\n",
       "      <td>No</td>\n",
       "    </tr>\n",
       "    <tr>\n",
       "      <th>...</th>\n",
       "      <td>...</td>\n",
       "      <td>...</td>\n",
       "      <td>...</td>\n",
       "      <td>...</td>\n",
       "      <td>...</td>\n",
       "    </tr>\n",
       "    <tr>\n",
       "      <th>149716</th>\n",
       "      <td>Austin</td>\n",
       "      <td>Male</td>\n",
       "      <td>41</td>\n",
       "      <td>94296.0</td>\n",
       "      <td>No</td>\n",
       "    </tr>\n",
       "    <tr>\n",
       "      <th>149806</th>\n",
       "      <td>Austin</td>\n",
       "      <td>Female</td>\n",
       "      <td>41</td>\n",
       "      <td>71121.0</td>\n",
       "      <td>No</td>\n",
       "    </tr>\n",
       "    <tr>\n",
       "      <th>149840</th>\n",
       "      <td>Austin</td>\n",
       "      <td>Male</td>\n",
       "      <td>41</td>\n",
       "      <td>92839.0</td>\n",
       "      <td>No</td>\n",
       "    </tr>\n",
       "    <tr>\n",
       "      <th>149891</th>\n",
       "      <td>Austin</td>\n",
       "      <td>Male</td>\n",
       "      <td>41</td>\n",
       "      <td>87493.0</td>\n",
       "      <td>No</td>\n",
       "    </tr>\n",
       "    <tr>\n",
       "      <th>149967</th>\n",
       "      <td>Austin</td>\n",
       "      <td>Male</td>\n",
       "      <td>41</td>\n",
       "      <td>105023.0</td>\n",
       "      <td>No</td>\n",
       "    </tr>\n",
       "  </tbody>\n",
       "</table>\n",
       "<p>3862 rows × 5 columns</p>\n",
       "</div>"
      ],
      "text/plain": [
       "          City  Gender  Age    Income Illness\n",
       "Number                                       \n",
       "1       Dallas    Male   41   40367.0      No\n",
       "36      Dallas    Male   41   50312.0      No\n",
       "38      Dallas  Female   41   29538.0      No\n",
       "42      Dallas    Male   41   68522.0      No\n",
       "75      Dallas  Female   41   27897.0      No\n",
       "...        ...     ...  ...       ...     ...\n",
       "149716  Austin    Male   41   94296.0      No\n",
       "149806  Austin  Female   41   71121.0      No\n",
       "149840  Austin    Male   41   92839.0      No\n",
       "149891  Austin    Male   41   87493.0      No\n",
       "149967  Austin    Male   41  105023.0      No\n",
       "\n",
       "[3862 rows x 5 columns]"
      ]
     },
     "execution_count": 52,
     "metadata": {},
     "output_type": "execute_result"
    }
   ],
   "source": [
    "toy_dataset.loc[toy_dataset.Age.isin([41])]"
   ]
  },
  {
   "cell_type": "code",
   "execution_count": 53,
   "id": "0dccbefc",
   "metadata": {},
   "outputs": [],
   "source": [
    "toy_dataset['test_index'] = range(len(toy_dataset),0,-1)"
   ]
  },
  {
   "cell_type": "code",
   "execution_count": 55,
   "id": "ec02609c",
   "metadata": {},
   "outputs": [
    {
     "data": {
      "application/vnd.microsoft.datawrangler.viewer.v0+json": {
       "columns": [
        {
         "name": "Number",
         "rawType": "int64",
         "type": "integer"
        },
        {
         "name": "test_index",
         "rawType": "int64",
         "type": "integer"
        }
       ],
       "ref": "863ad42e-1b4c-4d19-8435-e20d6ba7e544",
       "rows": [
        [
         "1",
         "150000"
        ],
        [
         "2",
         "149999"
        ],
        [
         "3",
         "149998"
        ],
        [
         "4",
         "149997"
        ],
        [
         "5",
         "149996"
        ],
        [
         "6",
         "149995"
        ],
        [
         "7",
         "149994"
        ],
        [
         "8",
         "149993"
        ],
        [
         "9",
         "149992"
        ],
        [
         "10",
         "149991"
        ],
        [
         "11",
         "149990"
        ],
        [
         "12",
         "149989"
        ],
        [
         "13",
         "149988"
        ],
        [
         "14",
         "149987"
        ],
        [
         "15",
         "149986"
        ],
        [
         "16",
         "149985"
        ],
        [
         "17",
         "149984"
        ],
        [
         "18",
         "149983"
        ],
        [
         "19",
         "149982"
        ],
        [
         "20",
         "149981"
        ],
        [
         "21",
         "149980"
        ],
        [
         "22",
         "149979"
        ],
        [
         "23",
         "149978"
        ],
        [
         "24",
         "149977"
        ],
        [
         "25",
         "149976"
        ],
        [
         "26",
         "149975"
        ],
        [
         "27",
         "149974"
        ],
        [
         "28",
         "149973"
        ],
        [
         "29",
         "149972"
        ],
        [
         "30",
         "149971"
        ],
        [
         "31",
         "149970"
        ],
        [
         "32",
         "149969"
        ],
        [
         "33",
         "149968"
        ],
        [
         "34",
         "149967"
        ],
        [
         "35",
         "149966"
        ],
        [
         "36",
         "149965"
        ],
        [
         "37",
         "149964"
        ],
        [
         "38",
         "149963"
        ],
        [
         "39",
         "149962"
        ],
        [
         "40",
         "149961"
        ],
        [
         "41",
         "149960"
        ],
        [
         "42",
         "149959"
        ],
        [
         "43",
         "149958"
        ],
        [
         "44",
         "149957"
        ],
        [
         "45",
         "149956"
        ],
        [
         "46",
         "149955"
        ],
        [
         "47",
         "149954"
        ],
        [
         "48",
         "149953"
        ],
        [
         "49",
         "149952"
        ],
        [
         "50",
         "149951"
        ]
       ],
       "shape": {
        "columns": 1,
        "rows": 150000
       }
      },
      "text/plain": [
       "Number\n",
       "1         150000\n",
       "2         149999\n",
       "3         149998\n",
       "4         149997\n",
       "5         149996\n",
       "           ...  \n",
       "149996         5\n",
       "149997         4\n",
       "149998         3\n",
       "149999         2\n",
       "150000         1\n",
       "Name: test_index, Length: 150000, dtype: int64"
      ]
     },
     "execution_count": 55,
     "metadata": {},
     "output_type": "execute_result"
    }
   ],
   "source": [
    "toy_dataset['test_index']"
   ]
  },
  {
   "cell_type": "markdown",
   "id": "dfab423e",
   "metadata": {},
   "source": [
    "<!-- Summary Functions  -->"
   ]
  },
  {
   "cell_type": "code",
   "execution_count": 56,
   "id": "1ed14075",
   "metadata": {},
   "outputs": [
    {
     "data": {
      "application/vnd.microsoft.datawrangler.viewer.v0+json": {
       "columns": [
        {
         "name": "index",
         "rawType": "object",
         "type": "string"
        },
        {
         "name": "Age",
         "rawType": "float64",
         "type": "float"
        }
       ],
       "ref": "72fe3e62-79f0-47c3-bd4b-d110abb0798d",
       "rows": [
        [
         "count",
         "150000.0"
        ],
        [
         "mean",
         "44.9502"
        ],
        [
         "std",
         "11.572485735982493"
        ],
        [
         "min",
         "25.0"
        ],
        [
         "25%",
         "35.0"
        ],
        [
         "50%",
         "45.0"
        ],
        [
         "75%",
         "55.0"
        ],
        [
         "max",
         "65.0"
        ]
       ],
       "shape": {
        "columns": 1,
        "rows": 8
       }
      },
      "text/plain": [
       "count    150000.000000\n",
       "mean         44.950200\n",
       "std          11.572486\n",
       "min          25.000000\n",
       "25%          35.000000\n",
       "50%          45.000000\n",
       "75%          55.000000\n",
       "max          65.000000\n",
       "Name: Age, dtype: float64"
      ]
     },
     "execution_count": 56,
     "metadata": {},
     "output_type": "execute_result"
    }
   ],
   "source": [
    "toy_dataset.Age.describe()"
   ]
  },
  {
   "cell_type": "code",
   "execution_count": 57,
   "id": "8b2ff629",
   "metadata": {},
   "outputs": [
    {
     "data": {
      "application/vnd.microsoft.datawrangler.viewer.v0+json": {
       "columns": [
        {
         "name": "index",
         "rawType": "object",
         "type": "string"
        },
        {
         "name": "City",
         "rawType": "object",
         "type": "unknown"
        }
       ],
       "ref": "9a8a3c43-68f0-45b3-8cbe-8e2735e2be56",
       "rows": [
        [
         "count",
         "150000"
        ],
        [
         "unique",
         "8"
        ],
        [
         "top",
         "New York City"
        ],
        [
         "freq",
         "50307"
        ]
       ],
       "shape": {
        "columns": 1,
        "rows": 4
       }
      },
      "text/plain": [
       "count            150000\n",
       "unique                8\n",
       "top       New York City\n",
       "freq              50307\n",
       "Name: City, dtype: object"
      ]
     },
     "execution_count": 57,
     "metadata": {},
     "output_type": "execute_result"
    }
   ],
   "source": [
    "toy_dataset.City.describe()"
   ]
  },
  {
   "cell_type": "code",
   "execution_count": 58,
   "id": "52db60eb",
   "metadata": {},
   "outputs": [
    {
     "data": {
      "text/plain": [
       "array(['Dallas', 'New York City', 'Los Angeles', 'Mountain View',\n",
       "       'Boston', 'Washington D.C.', 'San Diego', 'Austin'], dtype=object)"
      ]
     },
     "execution_count": 58,
     "metadata": {},
     "output_type": "execute_result"
    }
   ],
   "source": [
    "toy_dataset.City.unique()"
   ]
  },
  {
   "cell_type": "code",
   "execution_count": 59,
   "id": "8f7870f1",
   "metadata": {},
   "outputs": [
    {
     "data": {
      "text/plain": [
       "8"
      ]
     },
     "execution_count": 59,
     "metadata": {},
     "output_type": "execute_result"
    }
   ],
   "source": [
    "toy_dataset.City.nunique()"
   ]
  },
  {
   "cell_type": "code",
   "execution_count": 60,
   "id": "caeda03b",
   "metadata": {},
   "outputs": [
    {
     "data": {
      "application/vnd.microsoft.datawrangler.viewer.v0+json": {
       "columns": [
        {
         "name": "City",
         "rawType": "object",
         "type": "string"
        },
        {
         "name": "count",
         "rawType": "int64",
         "type": "integer"
        }
       ],
       "ref": "fe37237a-c1c8-4ecf-8331-edd3e61d5e4f",
       "rows": [
        [
         "New York City",
         "50307"
        ],
        [
         "Los Angeles",
         "32173"
        ],
        [
         "Dallas",
         "19707"
        ],
        [
         "Mountain View",
         "14219"
        ],
        [
         "Austin",
         "12292"
        ],
        [
         "Boston",
         "8301"
        ],
        [
         "Washington D.C.",
         "8120"
        ],
        [
         "San Diego",
         "4881"
        ]
       ],
       "shape": {
        "columns": 1,
        "rows": 8
       }
      },
      "text/plain": [
       "City\n",
       "New York City      50307\n",
       "Los Angeles        32173\n",
       "Dallas             19707\n",
       "Mountain View      14219\n",
       "Austin             12292\n",
       "Boston              8301\n",
       "Washington D.C.     8120\n",
       "San Diego           4881\n",
       "Name: count, dtype: int64"
      ]
     },
     "execution_count": 60,
     "metadata": {},
     "output_type": "execute_result"
    }
   ],
   "source": [
    "toy_dataset.City.value_counts()"
   ]
  },
  {
   "cell_type": "markdown",
   "id": "2e896595",
   "metadata": {},
   "source": [
    "<!-- Maps -->"
   ]
  },
  {
   "cell_type": "code",
   "execution_count": 63,
   "id": "46992464",
   "metadata": {},
   "outputs": [],
   "source": [
    "mean = toy_dataset.Income.mean()"
   ]
  },
  {
   "cell_type": "code",
   "execution_count": 64,
   "id": "1246c763",
   "metadata": {},
   "outputs": [
    {
     "data": {
      "application/vnd.microsoft.datawrangler.viewer.v0+json": {
       "columns": [
        {
         "name": "Number",
         "rawType": "int64",
         "type": "integer"
        },
        {
         "name": "Income",
         "rawType": "float64",
         "type": "float"
        }
       ],
       "ref": "56302fa6-dff0-4f13-908e-80f6f837e9c8",
       "rows": [
        [
         "1",
         "-50885.798273333334"
        ],
        [
         "2",
         "-46168.798273333334"
        ],
        [
         "3",
         "-38769.798273333334"
        ],
        [
         "4",
         "-50311.798273333334"
        ],
        [
         "5",
         "-40963.798273333334"
        ],
        [
         "6",
         "-40466.798273333334"
        ],
        [
         "7",
         "-58097.798273333334"
        ],
        [
         "8",
         "-60338.798273333334"
        ],
        [
         "9",
         "-22585.798273333334"
        ],
        [
         "10",
         "-41170.798273333334"
        ],
        [
         "11",
         "-49728.798273333334"
        ],
        [
         "12",
         "-36475.798273333334"
        ],
        [
         "13",
         "-28503.798273333334"
        ],
        [
         "14",
         "-40358.798273333334"
        ],
        [
         "15",
         "-52823.798273333334"
        ],
        [
         "16",
         "-57178.798273333334"
        ],
        [
         "17",
         "-40854.798273333334"
        ],
        [
         "18",
         "-44879.798273333334"
        ],
        [
         "19",
         "-40115.798273333334"
        ],
        [
         "20",
         "-67564.79827333333"
        ],
        [
         "21",
         "-73874.79827333333"
        ],
        [
         "22",
         "-45333.798273333334"
        ],
        [
         "23",
         "-68251.79827333333"
        ],
        [
         "24",
         "-56960.798273333334"
        ],
        [
         "25",
         "-36062.798273333334"
        ],
        [
         "26",
         "-65083.798273333334"
        ],
        [
         "27",
         "-33930.798273333334"
        ],
        [
         "28",
         "-29548.798273333334"
        ],
        [
         "29",
         "-37633.798273333334"
        ],
        [
         "30",
         "-43831.798273333334"
        ],
        [
         "31",
         "-50899.798273333334"
        ],
        [
         "32",
         "-63127.798273333334"
        ],
        [
         "33",
         "-48622.798273333334"
        ],
        [
         "34",
         "-34607.798273333334"
        ],
        [
         "35",
         "-49306.798273333334"
        ],
        [
         "36",
         "-40940.798273333334"
        ],
        [
         "37",
         "-43380.798273333334"
        ],
        [
         "38",
         "-61714.798273333334"
        ],
        [
         "39",
         "-51371.798273333334"
        ],
        [
         "40",
         "-42734.798273333334"
        ],
        [
         "41",
         "-75084.79827333333"
        ],
        [
         "42",
         "-22730.798273333334"
        ],
        [
         "43",
         "-40502.798273333334"
        ],
        [
         "44",
         "-41638.798273333334"
        ],
        [
         "45",
         "-35083.798273333334"
        ],
        [
         "46",
         "-50591.798273333334"
        ],
        [
         "47",
         "-37522.798273333334"
        ],
        [
         "48",
         "-56639.798273333334"
        ],
        [
         "49",
         "-56003.798273333334"
        ],
        [
         "50",
         "-39034.798273333334"
        ]
       ],
       "shape": {
        "columns": 1,
        "rows": 150000
       }
      },
      "text/plain": [
       "Number\n",
       "1        -50885.798273\n",
       "2        -46168.798273\n",
       "3        -38769.798273\n",
       "4        -50311.798273\n",
       "5        -40963.798273\n",
       "              ...     \n",
       "149996     2416.201727\n",
       "149997     5495.201727\n",
       "149998    20632.201727\n",
       "149999    20625.201727\n",
       "150000    -4001.798273\n",
       "Name: Income, Length: 150000, dtype: float64"
      ]
     },
     "execution_count": 64,
     "metadata": {},
     "output_type": "execute_result"
    }
   ],
   "source": [
    "toy_dataset.Income.map(lambda p: p -mean)"
   ]
  },
  {
   "cell_type": "code",
   "execution_count": null,
   "id": "32dd7ac4",
   "metadata": {},
   "outputs": [],
   "source": []
  }
 ],
 "metadata": {
  "kernelspec": {
   "display_name": "pandas",
   "language": "python",
   "name": "python3"
  },
  "language_info": {
   "codemirror_mode": {
    "name": "ipython",
    "version": 3
   },
   "file_extension": ".py",
   "mimetype": "text/x-python",
   "name": "python",
   "nbconvert_exporter": "python",
   "pygments_lexer": "ipython3",
   "version": "3.9.23"
  }
 },
 "nbformat": 4,
 "nbformat_minor": 5
}
